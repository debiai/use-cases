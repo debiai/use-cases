{
 "cells": [
  {
   "cell_type": "markdown",
   "metadata": {},
   "source": [
    "## DebiAI project creation notebook\n",
    "\n",
    "This notebook will:\n",
    "\n",
    "- Convert the Exathlon dataset to a DataFrame format\n",
    "- Connect to DebiAI\n",
    "- Create a new project\n",
    "- Add the dataset to the DebiAI project\n",
    "\n",
    "Make sure to have installed the required packages before running this notebook. You can install them by running:\n",
    "\n",
    "```bash\n",
    "pip install -r requirements.txt\n",
    "pip install debiai\n",
    "```\n"
   ]
  },
  {
   "cell_type": "markdown",
   "metadata": {},
   "source": [
    "### Convert the Woodscape dataset to a DataFrame format"
   ]
  },
  {
   "cell_type": "code",
   "execution_count": 4,
   "metadata": {},
   "outputs": [
    {
     "name": "stdout",
     "output_type": "stream",
     "text": [
      "(2474, 196)\n"
     ]
    }
   ],
   "source": [
    "from datasets import create_dataset\n",
    "\n",
    "# This function will convert the Exathlon dataset into a Pandas DataFrame\n",
    "dataset = create_dataset()\n",
    "print(dataset.shape)"
   ]
  },
  {
   "cell_type": "markdown",
   "metadata": {},
   "source": [
    "### Connecting to DebiAI"
   ]
  },
  {
   "cell_type": "code",
   "execution_count": 6,
   "metadata": {},
   "outputs": [],
   "source": [
    "from debiai import debiai\n",
    "\n",
    "DEBIAI_URL = \"http://localhost:3000/\"  # Change this to the locally installed Debiai URL\n",
    "PROJECT_NAME = \"Exathlon\""
   ]
  },
  {
   "cell_type": "code",
   "execution_count": 7,
   "metadata": {},
   "outputs": [],
   "source": [
    "# Connect to the Debiai server \n",
    "my_debiai = debiai.Debiai(DEBIAI_URL)"
   ]
  },
  {
   "cell_type": "markdown",
   "metadata": {},
   "source": [
    "### Creating a new DebiAI project"
   ]
  },
  {
   "cell_type": "code",
   "execution_count": 8,
   "metadata": {},
   "outputs": [],
   "source": [
    "# Create the DebiAI project\n",
    "dataset_project = my_debiai.create_project(PROJECT_NAME)"
   ]
  },
  {
   "cell_type": "code",
   "execution_count": null,
   "metadata": {},
   "outputs": [],
   "source": [
    "# Set the project block structure\n",
    "# The block structure defines the structure of the dataset,\n",
    "# it allows to define the project's data type and categories.\n",
    "\n",
    "# The Exathlon structure is as follows:\n",
    "# - First column: Timestamp\n",
    "# - Last column is the Grout Truth: groundtruth\n",
    "# - The columns in between are the sensors data: inputs (will be grouped)\n",
    "\n",
    "# Build the inputs\n",
    "inputs = []\n",
    "for column in dataset.columns[1:-1]:\n",
    "    inputs.append({\"name\": column, \"type\": \"number\", \"group\": \"sensors\"})\n",
    "\n",
    "# This block structure is specific to the WoodScape dataset\n",
    "# It follows the generated DataFrame structure\n",
    "block_structure = [\n",
    "    {\n",
    "        \"name\": \"timestamp\",\n",
    "        \"inputs\": inputs,\n",
    "        \"groundTruth\": [\n",
    "            {\"name\": \"is_anomaly\", \"type\": \"number\"},\n",
    "        ],\n",
    "    }\n",
    "]\n",
    "\n",
    "# Add the dataset block structure to the DebiAI project\n",
    "dataset_project.set_blockstructure(block_structure)"
   ]
  },
  {
   "cell_type": "markdown",
   "metadata": {},
   "source": [
    "The project columns should now be visible in the dashboard:\n",
    "![DebiAI project columns](course_images/debiai_project_columns.png)"
   ]
  },
  {
   "cell_type": "markdown",
   "metadata": {},
   "source": [
    "### Adding the dataset to the DebiAI project\n"
   ]
  },
  {
   "cell_type": "code",
   "execution_count": null,
   "metadata": {},
   "outputs": [],
   "source": [
    "# Add the dataset samples to the DebiAI project\n",
    "dataset_project.add_samples_pd(dataset)"
   ]
  },
  {
   "cell_type": "markdown",
   "metadata": {},
   "source": [
    "After refreshing the DebiAI dashboard, you should see that the project has been populated with the 8234 rows of the Woodscape dataset:\n",
    "![DebiAI project populated](course_images/debiai_project_nb_samples.png)\n",
    "Yo can now start analyzing the dataset in the DebiAI dashboard.\n"
   ]
  }
 ],
 "metadata": {
  "kernelspec": {
   "display_name": "DebiAI",
   "language": "python",
   "name": "python3"
  },
  "language_info": {
   "codemirror_mode": {
    "name": "ipython",
    "version": 3
   },
   "file_extension": ".py",
   "mimetype": "text/x-python",
   "name": "python",
   "nbconvert_exporter": "python",
   "pygments_lexer": "ipython3",
   "version": "3.10.15"
  }
 },
 "nbformat": 4,
 "nbformat_minor": 2
}
