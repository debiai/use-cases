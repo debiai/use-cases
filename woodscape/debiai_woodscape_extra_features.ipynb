{
 "cells": [
  {
   "cell_type": "markdown",
   "metadata": {},
   "source": [
    "## DebiAI Woodscape project creation with extra features\n",
    "\n",
    "This notebook does the same as the [debiai_woodscape](./debiai_woodscape.ipynb) notebook, but adds some extra pre-generated features."
   ]
  },
  {
   "cell_type": "code",
   "execution_count": null,
   "metadata": {},
   "outputs": [],
   "source": [
    "from datasets import create_woodscape_dataset_extra_features\n",
    "\n",
    "# Create the dataframe dataset\n",
    "dataset = create_woodscape_dataset_extra_features()\n",
    "print(dataset.columns.tolist())"
   ]
  },
  {
   "cell_type": "markdown",
   "metadata": {},
   "source": [
    "### Connecting to DebiAI"
   ]
  },
  {
   "cell_type": "code",
   "execution_count": null,
   "metadata": {},
   "outputs": [],
   "source": [
    "from debiai import debiai\n",
    "\n",
    "DEBIAI_URL = \"http://localhost:3000/\"  # Change this to the locally installed Debiai URL\n",
    "PROJECT_NAME = \"WoodScape - Extra features\""
   ]
  },
  {
   "cell_type": "code",
   "execution_count": null,
   "metadata": {},
   "outputs": [],
   "source": [
    "# Connect to the Debiai server \n",
    "my_debiai = debiai.Debiai(DEBIAI_URL)"
   ]
  },
  {
   "cell_type": "markdown",
   "metadata": {},
   "source": [
    "### Creating a new DebiAI project"
   ]
  },
  {
   "cell_type": "code",
   "execution_count": null,
   "metadata": {},
   "outputs": [],
   "source": [
    "# Create the DebiAI project\n",
    "dataset_project = my_debiai.create_project(PROJECT_NAME)"
   ]
  },
  {
   "cell_type": "code",
   "execution_count": null,
   "metadata": {},
   "outputs": [],
   "source": [
    "# You can retrieve a project by its name\n",
    "dataset_project = my_debiai.get_project(PROJECT_NAME)\n",
    "print(dataset_project) \n",
    "\n",
    "# You can also delete the project by running the following command\n",
    "# my_debiai.delete_project_byId(PROJECT_NAME)"
   ]
  },
  {
   "cell_type": "markdown",
   "metadata": {},
   "source": [
    "At this point, the DebiAI dashboard should show you that an empty project has been created: \n",
    "![DebiAI empty project 1](course_images/debiai_empty_project_1.png)\n",
    "![DebiAI empty project 2](course_images/debiai_empty_project_2.png)"
   ]
  },
  {
   "cell_type": "code",
   "execution_count": null,
   "metadata": {},
   "outputs": [],
   "source": [
    "# Set the project block structure\n",
    "# The block structure defines the structure of the dataset,\n",
    "# it allows to define the project's data type and categories.\n",
    "\n",
    "# This block structure is specific to the WoodScape dataset\n",
    "# It follows the generated DataFrame structure\n",
    "block_structure = [\n",
    "    {\n",
    "        \"name\": \"image\",\n",
    "        \"contexts\": [\n",
    "            {\"name\": \"camera\", \"type\": \"text\"},\n",
    "            {\"name\": \"objects number\", \"type\": \"number\"},\n",
    "            {\"name\": \"per classes number\", \"type\": \"number\"},\n",
    "            {\"name\": \"luminance\", \"type\": \"number\"},\n",
    "            {\"name\": \"contrast\", \"type\": \"number\"},\n",
    "        ],\n",
    "        \"inputs\": [],\n",
    "        \"groundTruth\": [\n",
    "            {\"name\": \"objects\", \"type\": \"list\"},\n",
    "        ],\n",
    "    }\n",
    "]\n",
    "\n",
    "# Add the dataset block structure to the DebiAI project\n",
    "dataset_project.set_blockstructure(block_structure)"
   ]
  },
  {
   "cell_type": "code",
   "execution_count": null,
   "metadata": {},
   "outputs": [],
   "source": [
    "# Add the dataset samples to the DebiAI project\n",
    "dataset_project.add_samples_pd(dataset)"
   ]
  }
 ],
 "metadata": {
  "kernelspec": {
   "display_name": "DebiAI",
   "language": "python",
   "name": "python3"
  },
  "language_info": {
   "codemirror_mode": {
    "name": "ipython",
    "version": 3
   },
   "file_extension": ".py",
   "mimetype": "text/x-python",
   "name": "python",
   "nbconvert_exporter": "python",
   "pygments_lexer": "ipython3",
   "version": "3.10.15"
  }
 },
 "nbformat": 4,
 "nbformat_minor": 2
}
