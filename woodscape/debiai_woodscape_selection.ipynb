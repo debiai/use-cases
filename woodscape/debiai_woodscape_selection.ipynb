{
 "cells": [
  {
   "cell_type": "markdown",
   "metadata": {},
   "source": [
    "# DebiAI selection extraction\n",
    "\n",
    "After creating a selection from the DebiAI dashboard, you can download data as a DataFrame. This notebook shows how to download the selection from the DebiAI project.\n",
    "\n",
    "## Setup DebiAI"
   ]
  },
  {
   "cell_type": "code",
   "execution_count": null,
   "metadata": {},
   "outputs": [],
   "source": [
    "from debiai import debiai\n",
    "\n",
    "DEBIAI_URL = \"http://localhost:3000/\"  # Change this to the locally installed Debiai URL\n",
    "PROJECT_NAME = \"WoodScape - Dataset Exploration\"  # Make sure that this project exists\n",
    "SELECTION_NAME = \"MVL_10_objects\"  # Should correspond to the one given in the analysis\n",
    "\n",
    "my_debiai = debiai.Debiai(DEBIAI_URL)"
   ]
  },
  {
   "cell_type": "code",
   "execution_count": null,
   "metadata": {},
   "outputs": [],
   "source": [
    "# Retrieve the project by its name\n",
    "dataset_project = my_debiai.get_project(PROJECT_NAME)"
   ]
  },
  {
   "cell_type": "code",
   "execution_count": null,
   "metadata": {},
   "outputs": [],
   "source": [
    "# List the project's selections\n",
    "selections = dataset_project.get_selections()\n",
    "\n",
    "for selection in selections:\n",
    "    print(\"-\", selection.name)"
   ]
  },
  {
   "cell_type": "code",
   "execution_count": null,
   "metadata": {},
   "outputs": [],
   "source": [
    "# Retrieve the selection by its name\n",
    "selection = dataset_project.get_selection(SELECTION_NAME)\n",
    "print(selection)"
   ]
  },
  {
   "cell_type": "code",
   "execution_count": null,
   "metadata": {},
   "outputs": [],
   "source": [
    "# Load the samples of the selection as a pandas DataFrame\n",
    "samples = selection.get_dataframe()\n",
    "print(samples)"
   ]
  }
 ],
 "metadata": {
  "kernelspec": {
   "display_name": "venv",
   "language": "python",
   "name": "python3"
  },
  "language_info": {
   "codemirror_mode": {
    "name": "ipython",
    "version": 3
   },
   "file_extension": ".py",
   "mimetype": "text/x-python",
   "name": "python",
   "nbconvert_exporter": "python",
   "pygments_lexer": "ipython3",
   "version": "3.10.15"
  }
 },
 "nbformat": 4,
 "nbformat_minor": 2
}
