{
 "cells": [
  {
   "cell_type": "code",
   "execution_count": null,
   "metadata": {},
   "outputs": [],
   "source": [
    "%load_ext autoreload\n",
    "%autoreload 2"
   ]
  },
  {
   "cell_type": "markdown",
   "metadata": {},
   "source": [
    "## DebiAI project creation notebook\n",
    "\n",
    "This notebook will:\n",
    "\n",
    "- Convert the Woodscape dataset to a DataFrame format\n",
    "- Connect to DebiAI\n",
    "- Create a new project\n",
    "- Add the dataset to the DebiAI project\n",
    "\n",
    "Make sure to have installed the required packages before running this notebook. You can install them by running:\n",
    "\n",
    "```bash\n",
    "pip install -r requirements.txt\n",
    "pip install debiai\n",
    "```\n"
   ]
  },
  {
   "cell_type": "markdown",
   "metadata": {},
   "source": [
    "### Convert the Woodscape dataset to a DataFrame format"
   ]
  },
  {
   "cell_type": "code",
   "execution_count": null,
   "metadata": {},
   "outputs": [],
   "source": [
    "from datasets import create_woodscape_dataset\n",
    "\n",
    "# This function will convert the WoodScape dataset into a Pandas DataFrame\n",
    "dataset = create_woodscape_dataset()\n",
    "print(dataset)"
   ]
  },
  {
   "cell_type": "markdown",
   "metadata": {},
   "source": [
    "### Connecting to DebiAI"
   ]
  },
  {
   "cell_type": "code",
   "execution_count": null,
   "metadata": {},
   "outputs": [],
   "source": [
    "from debiai import debiai\n",
    "\n",
    "DEBIAI_URL = \"http://localhost:3000/\"  # Change this to the locally installed Debiai URL\n",
    "PROJECT_NAME = \"WoodScape - Dataset Exploration\""
   ]
  },
  {
   "cell_type": "code",
   "execution_count": null,
   "metadata": {},
   "outputs": [],
   "source": [
    "# Connect to the Debiai server \n",
    "my_debiai = debiai.Debiai(DEBIAI_URL)"
   ]
  },
  {
   "cell_type": "markdown",
   "metadata": {},
   "source": [
    "### Creating a new DebiAI project"
   ]
  },
  {
   "cell_type": "code",
   "execution_count": null,
   "metadata": {},
   "outputs": [],
   "source": [
    "# Create the DebiAI project\n",
    "dataset_project = my_debiai.create_project(PROJECT_NAME)"
   ]
  },
  {
   "cell_type": "code",
   "execution_count": null,
   "metadata": {},
   "outputs": [],
   "source": [
    "# You can retrieve a project by its name\n",
    "dataset_project = my_debiai.get_project(PROJECT_NAME)\n",
    "print(dataset_project) \n",
    "\n",
    "# You can also delete the project by running the following command\n",
    "# my_debiai.delete_project_byId(PROJECT_NAME)"
   ]
  },
  {
   "cell_type": "markdown",
   "metadata": {},
   "source": [
    "At this point, the DebiAI dashboard should show you that an empty project has been created: \n",
    "![DebiAI empty project 1](course_images/debiai_empty_project_1.png)\n",
    "![DebiAI empty project 2](course_images/debiai_empty_project_2.png)"
   ]
  },
  {
   "cell_type": "code",
   "execution_count": null,
   "metadata": {},
   "outputs": [],
   "source": [
    "# Set the project block structure\n",
    "# The block structure defines the structure of the dataset,\n",
    "# it allows to define the project's data type and categories.\n",
    "\n",
    "# This block structure is specific to the WoodScape dataset\n",
    "# It follows the generated DataFrame structure\n",
    "block_structure = [\n",
    "    {\n",
    "        \"name\": \"image\",\n",
    "        \"contexts\": [\n",
    "            {\"name\": \"camera\", \"type\": \"text\"},\n",
    "            {\"name\": \"objects number\", \"type\": \"number\"},\n",
    "            {\"name\": \"per classes number\", \"type\": \"number\"},\n",
    "        ],\n",
    "        \"inputs\": [],\n",
    "        \"groundTruth\": [\n",
    "            {\"name\": \"objects\", \"type\": \"list\"},\n",
    "        ],\n",
    "    }\n",
    "]\n",
    "\n",
    "# Add the dataset block structure to the DebiAI project\n",
    "dataset_project.set_blockstructure(block_structure)"
   ]
  },
  {
   "cell_type": "markdown",
   "metadata": {},
   "source": [
    "The project columns should now be visible in the dashboard:\n",
    "![DebiAI project columns](course_images/debiai_project_columns.png)"
   ]
  },
  {
   "cell_type": "markdown",
   "metadata": {},
   "source": [
    "### Adding the dataset to the DebiAI project\n"
   ]
  },
  {
   "cell_type": "code",
   "execution_count": null,
   "metadata": {},
   "outputs": [],
   "source": [
    "# Add the dataset samples to the DebiAI project\n",
    "dataset_project.add_samples_pd(dataset)"
   ]
  },
  {
   "cell_type": "markdown",
   "metadata": {},
   "source": [
    "After refreshing the DebiAI dashboard, you should see that the project has been populated with the 8234 rows of the Woodscape dataset:\n",
    "![DebiAI project populated](course_images/debiai_project_nb_samples.png)\n",
    "Yo can now start analyzing the dataset in the DebiAI dashboard.\n"
   ]
  }
 ],
 "metadata": {
  "kernelspec": {
   "display_name": "DebiAI",
   "language": "python",
   "name": "python3"
  },
  "language_info": {
   "codemirror_mode": {
    "name": "ipython",
    "version": 3
   },
   "file_extension": ".py",
   "mimetype": "text/x-python",
   "name": "python",
   "nbconvert_exporter": "python",
   "pygments_lexer": "ipython3",
   "version": "3.10.15"
  }
 },
 "nbformat": 4,
 "nbformat_minor": 2
}
